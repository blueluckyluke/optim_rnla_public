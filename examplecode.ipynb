{
 "cells": [
  {
   "cell_type": "code",
   "execution_count": 1,
   "metadata": {},
   "outputs": [],
   "source": [
    "from optim_rnla import example_problem as ex\n",
    "from optim_rnla import trs_problem as trp\n",
    "from optim_rnla import optimiser as op\n",
    "from optim_rnla import gep_solver\n",
    "from optim_rnla import basisgeneration\n",
    "import numpy as np\n",
    "import scipy"
   ]
  },
  {
   "cell_type": "code",
   "execution_count": 2,
   "metadata": {},
   "outputs": [
    {
     "name": "stdout",
     "output_type": "stream",
     "text": [
      " After Iter 1; current x starts [0.8998994  0.89919907 0.89992453 0.89965621]; rho 0.9999999999999994; boundary; delta new 2\n",
      " After Iter 2; current x starts [0.69998469 0.69894504 0.70036045 0.69970236]; rho 1.0000000000000002; boundary; delta new 4\n",
      " After Iter 3; current x starts [0.30390329 0.29583671 0.29936054 0.30133671]; rho 0.9999999999999998; boundary; delta new 8\n",
      " After Iter 4; current x starts [0. 0. 0. 0.]; rho 1.0; interior; delta new 8\n",
      "TR method converged to point with norm of gradient 0.0\n"
     ]
    },
    {
     "name": "stderr",
     "output_type": "stream",
     "text": [
      "c:\\Users\\lucas\\Documents\\MMSC offline\\python_optim\\PoP_venv\\lib\\site-packages\\scipy\\sparse\\linalg\\_dsolve\\linsolve.py:394: SparseEfficiencyWarning: splu converted its input to CSC format\n",
      "  warn('splu converted its input to CSC format', SparseEfficiencyWarning)\n",
      "c:\\Users\\lucas\\Documents\\MMSC offline\\python_optim\\PoP_venv\\lib\\site-packages\\scipy\\sparse\\linalg\\_dsolve\\linsolve.py:285: SparseEfficiencyWarning: spsolve is more efficient when sparse b is in the CSC matrix format\n",
      "  warn('spsolve is more efficient when sparse b '\n"
     ]
    }
   ],
   "source": [
    "# easy example code to solve optimisation problem via trust region method\n",
    "# own trust region subproblem and own sketched Rayleigh-Ritz is used\n",
    "# minimizer is zero vector\n",
    "problem = ex.Sphere(100)\n",
    "TR = op.TRAlgorithm(problem, None)\n",
    "TR()"
   ]
  },
  {
   "cell_type": "code",
   "execution_count": 3,
   "metadata": {},
   "outputs": [
    {
     "name": "stdout",
     "output_type": "stream",
     "text": [
      "[[0.82425875]\n",
      " [0.67793398]\n",
      " [0.79711057]\n",
      " [0.8607705 ]\n",
      " [0.78650787]\n",
      " [0.97222831]\n",
      " [0.91781806]\n",
      " [0.86454495]\n",
      " [0.90459159]\n",
      " [0.96590644]] 10.286942576016813\n"
     ]
    }
   ],
   "source": [
    "# easy example code to setup and solve trust region subproblem\n",
    "# actual solution is vector full of ones and lam=10\n",
    "# low accurary is due to sketching and Rayleigh-Ritz for very low dimensions\n",
    "problemtrs= trp.TRSProb2(100)\n",
    "TRS= op.TRSviaGEP()\n",
    "s,lam,details =TRS(problemtrs)\n",
    "print(s[0:10], lam)\n"
   ]
  },
  {
   "cell_type": "code",
   "execution_count": 4,
   "metadata": {},
   "outputs": [
    {
     "name": "stdout",
     "output_type": "stream",
     "text": [
      "399.52053514061504 0.06793952506150579\n"
     ]
    }
   ],
   "source": [
    "# set up eigenvalue problem and solve for largest real eigval with sketched Rayleigh-Ritz\n",
    "# should yield lam=400 and a low error for the eigenvector\n",
    "n=200\n",
    "Q, _ = scipy.linalg.qr(np.random.randn(n, n))\n",
    "dia = np.arange(-n, n, 2)\n",
    "dia[-1] = 2 * n\n",
    "M= Q @ np.diag(dia) @ Q.T\n",
    "RR = gep_solver.GEPSolver(\"sketched\", \"performance\")\n",
    "B, MB = basisgeneration.blockkrylov(M, B0=None, b=int(n / 25), depth=5, partialorth=1)\n",
    "lam, V = RR(MB, B)\n",
    "print(lam, np.linalg.norm(np.real(V)-Q[:,-1:]))"
   ]
  }
 ],
 "metadata": {
  "kernelspec": {
   "display_name": "PoP_venv",
   "language": "python",
   "name": "python3"
  },
  "language_info": {
   "codemirror_mode": {
    "name": "ipython",
    "version": 3
   },
   "file_extension": ".py",
   "mimetype": "text/x-python",
   "name": "python",
   "nbconvert_exporter": "python",
   "pygments_lexer": "ipython3",
   "version": "3.10.9"
  },
  "orig_nbformat": 4
 },
 "nbformat": 4,
 "nbformat_minor": 2
}
